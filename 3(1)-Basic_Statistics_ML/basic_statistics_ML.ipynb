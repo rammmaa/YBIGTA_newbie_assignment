{
 "cells": [
  {
   "cell_type": "markdown",
   "id": "f488acb9",
   "metadata": {},
   "source": [
    "\n",
    "### 기초 통계 / ML 과제\n"
   ]
  },
  {
   "cell_type": "markdown",
   "id": "437562cf",
   "metadata": {},
   "source": [
    "1. 먼저  \n",
    "import seaborn as sns  \n",
    "iris = sns.load_dataset('iris')  \n",
    "해당 코드를 실행하여 Iris 데이터셋을 불러오고 구조를 확인하시오.  \n",
    "(예: head(), info() 등)\n"
   ]
  },
  {
   "cell_type": "code",
   "execution_count": 1,
   "id": "01f449be-f640-4ec6-9f1d-2ee391c11110",
   "metadata": {},
   "outputs": [
    {
     "data": {
      "text/html": [
       "<div>\n",
       "<style scoped>\n",
       "    .dataframe tbody tr th:only-of-type {\n",
       "        vertical-align: middle;\n",
       "    }\n",
       "\n",
       "    .dataframe tbody tr th {\n",
       "        vertical-align: top;\n",
       "    }\n",
       "\n",
       "    .dataframe thead th {\n",
       "        text-align: right;\n",
       "    }\n",
       "</style>\n",
       "<table border=\"1\" class=\"dataframe\">\n",
       "  <thead>\n",
       "    <tr style=\"text-align: right;\">\n",
       "      <th></th>\n",
       "      <th>sepal_length</th>\n",
       "      <th>sepal_width</th>\n",
       "      <th>petal_length</th>\n",
       "      <th>petal_width</th>\n",
       "      <th>species</th>\n",
       "    </tr>\n",
       "  </thead>\n",
       "  <tbody>\n",
       "    <tr>\n",
       "      <th>0</th>\n",
       "      <td>5.1</td>\n",
       "      <td>3.5</td>\n",
       "      <td>1.4</td>\n",
       "      <td>0.2</td>\n",
       "      <td>setosa</td>\n",
       "    </tr>\n",
       "    <tr>\n",
       "      <th>1</th>\n",
       "      <td>4.9</td>\n",
       "      <td>3.0</td>\n",
       "      <td>1.4</td>\n",
       "      <td>0.2</td>\n",
       "      <td>setosa</td>\n",
       "    </tr>\n",
       "    <tr>\n",
       "      <th>2</th>\n",
       "      <td>4.7</td>\n",
       "      <td>3.2</td>\n",
       "      <td>1.3</td>\n",
       "      <td>0.2</td>\n",
       "      <td>setosa</td>\n",
       "    </tr>\n",
       "    <tr>\n",
       "      <th>3</th>\n",
       "      <td>4.6</td>\n",
       "      <td>3.1</td>\n",
       "      <td>1.5</td>\n",
       "      <td>0.2</td>\n",
       "      <td>setosa</td>\n",
       "    </tr>\n",
       "    <tr>\n",
       "      <th>4</th>\n",
       "      <td>5.0</td>\n",
       "      <td>3.6</td>\n",
       "      <td>1.4</td>\n",
       "      <td>0.2</td>\n",
       "      <td>setosa</td>\n",
       "    </tr>\n",
       "  </tbody>\n",
       "</table>\n",
       "</div>"
      ],
      "text/plain": [
       "   sepal_length  sepal_width  petal_length  petal_width species\n",
       "0           5.1          3.5           1.4          0.2  setosa\n",
       "1           4.9          3.0           1.4          0.2  setosa\n",
       "2           4.7          3.2           1.3          0.2  setosa\n",
       "3           4.6          3.1           1.5          0.2  setosa\n",
       "4           5.0          3.6           1.4          0.2  setosa"
      ]
     },
     "metadata": {},
     "output_type": "display_data"
    },
    {
     "name": "stdout",
     "output_type": "stream",
     "text": [
      "<class 'pandas.core.frame.DataFrame'>\n",
      "RangeIndex: 150 entries, 0 to 149\n",
      "Data columns (total 5 columns):\n",
      " #   Column        Non-Null Count  Dtype  \n",
      "---  ------        --------------  -----  \n",
      " 0   sepal_length  150 non-null    float64\n",
      " 1   sepal_width   150 non-null    float64\n",
      " 2   petal_length  150 non-null    float64\n",
      " 3   petal_width   150 non-null    float64\n",
      " 4   species       150 non-null    object \n",
      "dtypes: float64(4), object(1)\n",
      "memory usage: 6.0+ KB\n"
     ]
    },
    {
     "data": {
      "text/plain": [
       "None"
      ]
     },
     "metadata": {},
     "output_type": "display_data"
    }
   ],
   "source": [
    "import seaborn as sns  \n",
    "iris = sns.load_dataset('iris') \n",
    "display(iris.head())\n",
    "display(iris.info())"
   ]
  },
  {
   "cell_type": "markdown",
   "id": "6e8b408a",
   "metadata": {},
   "source": [
    "\n",
    "2. 기술통계량 산출  \n",
    "Species별 Petal Length의 평균, 표준편자, 최소값, 최대값, 사분위수 등을 출력하고 그룹별 데이터 개수를 확인하시오.\n"
   ]
  },
  {
   "cell_type": "code",
   "execution_count": 2,
   "id": "57d227ae-c88f-4a50-a91a-1434f554b982",
   "metadata": {},
   "outputs": [
    {
     "name": "stdout",
     "output_type": "stream",
     "text": [
      "            count   mean       std  min  25%   50%    75%  max\n",
      "species                                                       \n",
      "setosa       50.0  1.462  0.173664  1.0  1.4  1.50  1.575  1.9\n",
      "versicolor   50.0  4.260  0.469911  3.0  4.0  4.35  4.600  5.1\n",
      "virginica    50.0  5.552  0.551895  4.5  5.1  5.55  5.875  6.9\n",
      "\n",
      "Group sizes:\n",
      "species\n",
      "setosa        50\n",
      "versicolor    50\n",
      "virginica     50\n",
      "Name: count, dtype: int64\n"
     ]
    }
   ],
   "source": [
    "iris_grouped = iris.groupby('species')['petal_length']\n",
    "desc = iris_grouped.describe()\n",
    "print(desc)\n",
    "\n",
    "print(\"\\nGroup sizes:\")\n",
    "print(iris['species'].value_counts())"
   ]
  },
  {
   "cell_type": "markdown",
   "id": "85077795",
   "metadata": {},
   "source": [
    "\n",
    "3. 시각화  \n",
    "Species별 Petal Length의 분포를 Boxplot으로 시각화하시오.  \n",
    "Boxplot 아래에 간단한 해석 코멘트를 다시오. (예: 어느 그룹이 평균이 높은지)\n"
   ]
  },
  {
   "cell_type": "code",
   "execution_count": 3,
   "id": "af9360b1-feec-4d03-91b7-9071bc9eed1e",
   "metadata": {},
   "outputs": [
    {
     "data": {
      "image/png": "[encoded data removed]",
      "text/plain": [
       "<Figure size 800x500 with 1 Axes>"
      ]
     },
     "metadata": {},
     "output_type": "display_data"
    }
   ],
   "source": [
    "import matplotlib.pyplot as plt\n",
    "\n",
    "plt.figure(figsize=(8, 5))\n",
    "sns.boxplot(x='species', y='petal_length', data=iris)\n",
    "plt.title('Petal Length by Species')\n",
    "plt.show()"
   ]
  },
  {
   "cell_type": "code",
   "execution_count": 4,
   "id": "538b7b45",
   "metadata": {},
   "outputs": [],
   "source": [
    "# petal_length의 평균은 virginica > versicolor > setosa 이다."
   ]
  },
  {
   "cell_type": "markdown",
   "id": "ac9835c5",
   "metadata": {},
   "source": [
    "\n",
    "4. 정규성 검정  \n",
    "Species별로 Shapiro-Wilk 검정을 실시하시오.  (해당 검정에 대한 가설 수립 포함)  \n",
    "각 그룹의 p-value를 출력하고, 0.05를 기준으로 해석하시오.  \n",
    "(단, 이후 분석은 정규성을 만족한다고 가정한다.)  \n",
    "(Hint: scipy.stats.shapiro() 함수로 활용 가능)"
   ]
  },
  {
   "cell_type": "code",
   "execution_count": 5,
   "id": "f9911784-cb2a-4b32-9e5b-ba0258c10acd",
   "metadata": {},
   "outputs": [
    {
     "name": "stdout",
     "output_type": "stream",
     "text": [
      "setosa: p-value = 0.0548\n",
      "versicolor: p-value = 0.1585\n",
      "virginica: p-value = 0.1098\n"
     ]
    }
   ],
   "source": [
    "from scipy import stats\n",
    "\n",
    "for sp in iris['species'].unique():\n",
    "    stat, p = stats.shapiro(iris[iris['species'] == sp]['petal_length'])\n",
    "    print(f\"{sp}: p-value = {p:.4f}\")"
   ]
  },
  {
   "cell_type": "code",
   "execution_count": 6,
   "id": "87a8a3d0-6b9c-4079-b5d7-906aa83a90e2",
   "metadata": {},
   "outputs": [],
   "source": [
    "# p > 0.05 → 각 품종의 petal_length는 통계적으로 정규분포를 따른다고 가정한다."
   ]
  },
  {
   "cell_type": "markdown",
   "id": "e7eb9efb",
   "metadata": {},
   "source": [
    "\n",
    "5. 등분산성 검정  \n",
    "Levene 검정을 통해 3개 그룹 간 등분산성을 검정하시오.  \n",
    "(해당 검정에 대한 가설 수립 포함)  \n",
    "p-value를 출력하고, 0.05를 기준으로 해석하시오.  \n",
    "(단, 이후 분석은 등분산성을 만족한다고 가정한다.)  \n",
    "(Hint: scipy.stats.levene() 함수로 활용 가능)\n"
   ]
  },
  {
   "cell_type": "code",
   "execution_count": 7,
   "id": "e4c9697d-ec4f-4c91-995d-b97fe0cde6f6",
   "metadata": {},
   "outputs": [
    {
     "name": "stdout",
     "output_type": "stream",
     "text": [
      "Levene Test p-value = 0.0000000313\n"
     ]
    }
   ],
   "source": [
    "setosa = iris[iris['species'] == 'setosa']['petal_length']\n",
    "versicolor = iris[iris['species'] == 'versicolor']['petal_length']\n",
    "virginica = iris[iris['species'] == 'virginica']['petal_length']\n",
    "\n",
    "stat, p = stats.levene(setosa, versicolor, virginica)\n",
    "print(f\"Levene Test p-value = {p:.10f}\")"
   ]
  },
  {
   "cell_type": "code",
   "execution_count": 8,
   "id": "5d0dcabd",
   "metadata": {},
   "outputs": [],
   "source": [
    "# p-value < 0.05 -> 등분산성 불만족..?"
   ]
  },
  {
   "cell_type": "markdown",
   "id": "625d3f6e",
   "metadata": {},
   "source": [
    "\n",
    "6. 가설 수립  \n",
    "아래 가설을 수립하시오.  \n",
    "H₀: 3개 Species 간 ~~  \n",
    "H₁: 적어도 ~~\n"
   ]
  },
  {
   "cell_type": "code",
   "execution_count": 9,
   "id": "84e07282-88e6-4d43-b07d-4fa981470f34",
   "metadata": {},
   "outputs": [
    {
     "name": "stdout",
     "output_type": "stream",
     "text": [
      "귀무가설 (H₀): 세 종(Species)의 Petal Length 평균은 모두 같다.\n",
      "대립가설 (H₁): 적어도 하나의 종은 평균이 다르다.\n"
     ]
    }
   ],
   "source": [
    "print(\"귀무가설 (H₀): 세 종(Species)의 Petal Length 평균은 모두 같다.\")\n",
    "print(\"대립가설 (H₁): 적어도 하나의 종은 평균이 다르다.\")"
   ]
  },
  {
   "cell_type": "markdown",
   "id": "52af4efd",
   "metadata": {},
   "source": [
    "\n",
    "7. ANOVA 실행  \n",
    "One-way ANOVA를 실시하시오.  \n",
    "ANOVA 표를 출력하고 F값과 p-value를 확인한 후,  \n",
    "유의수준 0.05 기준으로 귀무가설 기각 여부를 쓰시오.\n"
   ]
  },
  {
   "cell_type": "code",
   "execution_count": 10,
   "id": "965ea656-a118-4d07-b14e-f9ded5919181",
   "metadata": {},
   "outputs": [
    {
     "name": "stdout",
     "output_type": "stream",
     "text": [
      "            sum_sq     df            F        PR(>F)\n",
      "species   437.1028    2.0  1180.161182  2.856777e-91\n",
      "Residual   27.2226  147.0          NaN           NaN\n"
     ]
    }
   ],
   "source": [
    "import statsmodels.api as sm\n",
    "from statsmodels.formula.api import ols\n",
    "\n",
    "model = ols('petal_length ~ species', data=iris).fit()\n",
    "anova_table = sm.stats.anova_lm(model, typ=2)\n",
    "print(anova_table)"
   ]
  },
  {
   "cell_type": "code",
   "execution_count": 11,
   "id": "7538df9a",
   "metadata": {},
   "outputs": [],
   "source": [
    "# p-value ~=0, 귀무가설 기각 \n",
    "# -> 적어도 한 품종의 petal_length 평균은 다른 품종과 통계적으로 유의미한 차이가 있음."
   ]
  },
  {
   "cell_type": "markdown",
   "id": "f1e17960",
   "metadata": {},
   "source": [
    "\n",
    "8. 사후검정 (Tukey HSD)  \n",
    "ANOVA 결과 유의하다면 Tukey HSD 사후검정을 실시하시오.  \n",
    "어떤 쌍 간에 유의미한 차이가 있는지 요약하시오.\n"
   ]
  },
  {
   "cell_type": "code",
   "execution_count": 12,
   "id": "e6a29244-b8f1-40f3-9222-0bf7806c2958",
   "metadata": {},
   "outputs": [
    {
     "name": "stdout",
     "output_type": "stream",
     "text": [
      "   Multiple Comparison of Means - Tukey HSD, FWER=0.05   \n",
      "=========================================================\n",
      "  group1     group2   meandiff p-adj lower  upper  reject\n",
      "---------------------------------------------------------\n",
      "    setosa versicolor    2.798   0.0 2.5942 3.0018   True\n",
      "    setosa  virginica     4.09   0.0 3.8862 4.2938   True\n",
      "versicolor  virginica    1.292   0.0 1.0882 1.4958   True\n",
      "---------------------------------------------------------\n"
     ]
    }
   ],
   "source": [
    "from statsmodels.stats.multicomp import pairwise_tukeyhsd\n",
    "tukey = pairwise_tukeyhsd(endog=iris['petal_length'],\n",
    "                          groups=iris['species'],\n",
    "                          alpha=0.05)\n",
    "print(tukey)"
   ]
  },
  {
   "cell_type": "markdown",
   "id": "e997698e",
   "metadata": {},
   "source": [
    "\n",
    "9. 결과 요약  \n",
    "Boxplot, ANOVA, 사후검정 결과를 종합하여  \n",
    "어떤 그룹의 Petal Length가 통계적으로 유의하게 긴지/짧은지 간단히 결론지으시오.\n"
   ]
  },
  {
   "cell_type": "code",
   "execution_count": 13,
   "id": "5c9c51e6",
   "metadata": {},
   "outputs": [],
   "source": [
    "# 모든 그룹 쌍에서 평균 차이가 통계적으로 유의미함.\n",
    "# setosa-versicolor, setosa-virginica, versicolor-virginica 모두 통계적으로 유의미한 차이가 있음.\n",
    "# 즉, 세 품종 간에 petal_length 평균이 모두 다르다."
   ]
  },
  {
   "cell_type": "markdown",
   "id": "53ee7f17",
   "metadata": {},
   "source": [
    "\n",
    "### 실제 신용카드 사기 데이터셋을 활용한 분류 모델 학습\n"
   ]
  },
  {
   "cell_type": "markdown",
   "id": "ae0615ff",
   "metadata": {},
   "source": [
    "\n",
    "1. 데이터 로드 및 기본 탐색  \n",
    "creditcard.csv를 불러오고 데이터 구조를 확인하시오.  \n",
    "(예: head(), info(), describe(), Class 비율 출력)  \n",
    "정상 거래와 사기 거래 건수를 확인하시오.\n"
   ]
  },
  {
   "cell_type": "code",
   "execution_count": 15,
   "id": "85a53d62-9498-4458-9fcc-11babd5f41e9",
   "metadata": {},
   "outputs": [],
   "source": [
    "import pandas as pd\n",
    "import numpy as np\n",
    "from sklearn.model_selection import train_test_split\n",
    "from sklearn.preprocessing import StandardScaler\n",
    "from imblearn.over_sampling import SMOTE\n",
    "from sklearn.ensemble import RandomForestClassifier\n",
    "from sklearn.metrics import classification_report, average_precision_score, precision_recall_curve\n",
    "import matplotlib.pyplot as plt\n",
    "import seaborn as sns"
   ]
  },
  {
   "cell_type": "markdown",
   "id": "4a6177e5",
   "metadata": {},
   "source": [
    "\n",
    "2. 샘플링  \n",
    "사기 거래(Class=1)는 전부 유지하고,  \n",
    "정상 거래(Class=0)는 10,000건만 무작위 샘플링하시오.  \n",
    "(sampling 진행시, random_state는 42로 설정)  \n",
    "두 데이터셋을 합쳐 새로운 분석용 데이터프레임으로 만드시오.  \n",
    "샘플링 후 Class 비율을 다시 출력하시오.\n"
   ]
  },
  {
   "cell_type": "code",
   "execution_count": 16,
   "id": "1f606af0-d809-427f-aa75-ee582d7791de",
   "metadata": {},
   "outputs": [
    {
     "name": "stdout",
     "output_type": "stream",
     "text": [
      "(284807, 31)\n"
     ]
    },
    {
     "data": {
      "text/html": [
       "<div>\n",
       "<style scoped>\n",
       "    .dataframe tbody tr th:only-of-type {\n",
       "        vertical-align: middle;\n",
       "    }\n",
       "\n",
       "    .dataframe tbody tr th {\n",
       "        vertical-align: top;\n",
       "    }\n",
       "\n",
       "    .dataframe thead th {\n",
       "        text-align: right;\n",
       "    }\n",
       "</style>\n",
       "<table border=\"1\" class=\"dataframe\">\n",
       "  <thead>\n",
       "    <tr style=\"text-align: right;\">\n",
       "      <th></th>\n",
       "      <th>Time</th>\n",
       "      <th>V1</th>\n",
       "      <th>V2</th>\n",
       "      <th>V3</th>\n",
       "      <th>V4</th>\n",
       "      <th>V5</th>\n",
       "      <th>V6</th>\n",
       "      <th>V7</th>\n",
       "      <th>V8</th>\n",
       "      <th>V9</th>\n",
       "      <th>...</th>\n",
       "      <th>V21</th>\n",
       "      <th>V22</th>\n",
       "      <th>V23</th>\n",
       "      <th>V24</th>\n",
       "      <th>V25</th>\n",
       "      <th>V26</th>\n",
       "      <th>V27</th>\n",
       "      <th>V28</th>\n",
       "      <th>Amount</th>\n",
       "      <th>Class</th>\n",
       "    </tr>\n",
       "  </thead>\n",
       "  <tbody>\n",
       "    <tr>\n",
       "      <th>0</th>\n",
       "      <td>0.0</td>\n",
       "      <td>-1.359807</td>\n",
       "      <td>-0.072781</td>\n",
       "      <td>2.536347</td>\n",
       "      <td>1.378155</td>\n",
       "      <td>-0.338321</td>\n",
       "      <td>0.462388</td>\n",
       "      <td>0.239599</td>\n",
       "      <td>0.098698</td>\n",
       "      <td>0.363787</td>\n",
       "      <td>...</td>\n",
       "      <td>-0.018307</td>\n",
       "      <td>0.277838</td>\n",
       "      <td>-0.110474</td>\n",
       "      <td>0.066928</td>\n",
       "      <td>0.128539</td>\n",
       "      <td>-0.189115</td>\n",
       "      <td>0.133558</td>\n",
       "      <td>-0.021053</td>\n",
       "      <td>149.62</td>\n",
       "      <td>0</td>\n",
       "    </tr>\n",
       "    <tr>\n",
       "      <th>1</th>\n",
       "      <td>0.0</td>\n",
       "      <td>1.191857</td>\n",
       "      <td>0.266151</td>\n",
       "      <td>0.166480</td>\n",
       "      <td>0.448154</td>\n",
       "      <td>0.060018</td>\n",
       "      <td>-0.082361</td>\n",
       "      <td>-0.078803</td>\n",
       "      <td>0.085102</td>\n",
       "      <td>-0.255425</td>\n",
       "      <td>...</td>\n",
       "      <td>-0.225775</td>\n",
       "      <td>-0.638672</td>\n",
       "      <td>0.101288</td>\n",
       "      <td>-0.339846</td>\n",
       "      <td>0.167170</td>\n",
       "      <td>0.125895</td>\n",
       "      <td>-0.008983</td>\n",
       "      <td>0.014724</td>\n",
       "      <td>2.69</td>\n",
       "      <td>0</td>\n",
       "    </tr>\n",
       "    <tr>\n",
       "      <th>2</th>\n",
       "      <td>1.0</td>\n",
       "      <td>-1.358354</td>\n",
       "      <td>-1.340163</td>\n",
       "      <td>1.773209</td>\n",
       "      <td>0.379780</td>\n",
       "      <td>-0.503198</td>\n",
       "      <td>1.800499</td>\n",
       "      <td>0.791461</td>\n",
       "      <td>0.247676</td>\n",
       "      <td>-1.514654</td>\n",
       "      <td>...</td>\n",
       "      <td>0.247998</td>\n",
       "      <td>0.771679</td>\n",
       "      <td>0.909412</td>\n",
       "      <td>-0.689281</td>\n",
       "      <td>-0.327642</td>\n",
       "      <td>-0.139097</td>\n",
       "      <td>-0.055353</td>\n",
       "      <td>-0.059752</td>\n",
       "      <td>378.66</td>\n",
       "      <td>0</td>\n",
       "    </tr>\n",
       "    <tr>\n",
       "      <th>3</th>\n",
       "      <td>1.0</td>\n",
       "      <td>-0.966272</td>\n",
       "      <td>-0.185226</td>\n",
       "      <td>1.792993</td>\n",
       "      <td>-0.863291</td>\n",
       "      <td>-0.010309</td>\n",
       "      <td>1.247203</td>\n",
       "      <td>0.237609</td>\n",
       "      <td>0.377436</td>\n",
       "      <td>-1.387024</td>\n",
       "      <td>...</td>\n",
       "      <td>-0.108300</td>\n",
       "      <td>0.005274</td>\n",
       "      <td>-0.190321</td>\n",
       "      <td>-1.175575</td>\n",
       "      <td>0.647376</td>\n",
       "      <td>-0.221929</td>\n",
       "      <td>0.062723</td>\n",
       "      <td>0.061458</td>\n",
       "      <td>123.50</td>\n",
       "      <td>0</td>\n",
       "    </tr>\n",
       "    <tr>\n",
       "      <th>4</th>\n",
       "      <td>2.0</td>\n",
       "      <td>-1.158233</td>\n",
       "      <td>0.877737</td>\n",
       "      <td>1.548718</td>\n",
       "      <td>0.403034</td>\n",
       "      <td>-0.407193</td>\n",
       "      <td>0.095921</td>\n",
       "      <td>0.592941</td>\n",
       "      <td>-0.270533</td>\n",
       "      <td>0.817739</td>\n",
       "      <td>...</td>\n",
       "      <td>-0.009431</td>\n",
       "      <td>0.798278</td>\n",
       "      <td>-0.137458</td>\n",
       "      <td>0.141267</td>\n",
       "      <td>-0.206010</td>\n",
       "      <td>0.502292</td>\n",
       "      <td>0.219422</td>\n",
       "      <td>0.215153</td>\n",
       "      <td>69.99</td>\n",
       "      <td>0</td>\n",
       "    </tr>\n",
       "  </tbody>\n",
       "</table>\n",
       "<p>5 rows × 31 columns</p>\n",
       "</div>"
      ],
      "text/plain": [
       "   Time        V1        V2        V3        V4        V5        V6        V7  \\\n",
       "0   0.0 -1.359807 -0.072781  2.536347  1.378155 -0.338321  0.462388  0.239599   \n",
       "1   0.0  1.191857  0.266151  0.166480  0.448154  0.060018 -0.082361 -0.078803   \n",
       "2   1.0 -1.358354 -1.340163  1.773209  0.379780 -0.503198  1.800499  0.791461   \n",
       "3   1.0 -0.966272 -0.185226  1.792993 -0.863291 -0.010309  1.247203  0.237609   \n",
       "4   2.0 -1.158233  0.877737  1.548718  0.403034 -0.407193  0.095921  0.592941   \n",
       "\n",
       "         V8        V9  ...       V21       V22       V23       V24       V25  \\\n",
       "0  0.098698  0.363787  ... -0.018307  0.277838 -0.110474  0.066928  0.128539   \n",
       "1  0.085102 -0.255425  ... -0.225775 -0.638672  0.101288 -0.339846  0.167170   \n",
       "2  0.247676 -1.514654  ...  0.247998  0.771679  0.909412 -0.689281 -0.327642   \n",
       "3  0.377436 -1.387024  ... -0.108300  0.005274 -0.190321 -1.175575  0.647376   \n",
       "4 -0.270533  0.817739  ... -0.009431  0.798278 -0.137458  0.141267 -0.206010   \n",
       "\n",
       "        V26       V27       V28  Amount  Class  \n",
       "0 -0.189115  0.133558 -0.021053  149.62      0  \n",
       "1  0.125895 -0.008983  0.014724    2.69      0  \n",
       "2 -0.139097 -0.055353 -0.059752  378.66      0  \n",
       "3 -0.221929  0.062723  0.061458  123.50      0  \n",
       "4  0.502292  0.219422  0.215153   69.99      0  \n",
       "\n",
       "[5 rows x 31 columns]"
      ]
     },
     "metadata": {},
     "output_type": "display_data"
    },
    {
     "name": "stdout",
     "output_type": "stream",
     "text": [
      "<class 'pandas.core.frame.DataFrame'>\n",
      "RangeIndex: 284807 entries, 0 to 284806\n",
      "Data columns (total 31 columns):\n",
      " #   Column  Non-Null Count   Dtype  \n",
      "---  ------  --------------   -----  \n",
      " 0   Time    284807 non-null  float64\n",
      " 1   V1      284807 non-null  float64\n",
      " 2   V2      284807 non-null  float64\n",
      " 3   V3      284807 non-null  float64\n",
      " 4   V4      284807 non-null  float64\n",
      " 5   V5      284807 non-null  float64\n",
      " 6   V6      284807 non-null  float64\n",
      " 7   V7      284807 non-null  float64\n",
      " 8   V8      284807 non-null  float64\n",
      " 9   V9      284807 non-null  float64\n",
      " 10  V10     284807 non-null  float64\n",
      " 11  V11     284807 non-null  float64\n",
      " 12  V12     284807 non-null  float64\n",
      " 13  V13     284807 non-null  float64\n",
      " 14  V14     284807 non-null  float64\n",
      " 15  V15     284807 non-null  float64\n",
      " 16  V16     284807 non-null  float64\n",
      " 17  V17     284807 non-null  float64\n",
      " 18  V18     284807 non-null  float64\n",
      " 19  V19     284807 non-null  float64\n",
      " 20  V20     284807 non-null  float64\n",
      " 21  V21     284807 non-null  float64\n",
      " 22  V22     284807 non-null  float64\n",
      " 23  V23     284807 non-null  float64\n",
      " 24  V24     284807 non-null  float64\n",
      " 25  V25     284807 non-null  float64\n",
      " 26  V26     284807 non-null  float64\n",
      " 27  V27     284807 non-null  float64\n",
      " 28  V28     284807 non-null  float64\n",
      " 29  Amount  284807 non-null  float64\n",
      " 30  Class   284807 non-null  int64  \n",
      "dtypes: float64(30), int64(1)\n",
      "memory usage: 67.4 MB\n"
     ]
    },
    {
     "data": {
      "text/plain": [
       "None"
      ]
     },
     "metadata": {},
     "output_type": "display_data"
    },
    {
     "name": "stdout",
     "output_type": "stream",
     "text": [
      "Class\n",
      "0    0.998273\n",
      "1    0.001727\n",
      "Name: proportion, dtype: float64\n"
     ]
    }
   ],
   "source": [
    "df = pd.read_csv('creditcard.csv')\n",
    "\n",
    "print(df.shape)\n",
    "display(df.head())\n",
    "display(df.info())\n",
    "print(df['Class'].value_counts(normalize=True))"
   ]
  },
  {
   "cell_type": "markdown",
   "id": "64b973a1",
   "metadata": {},
   "source": [
    "\n",
    "3. 데이터 전처리  \n",
    "Amount 변수만 표준화(StandardScaler) 하여  \n",
    "새로운 변수 Amount_Scaled로 대체하시오.  \n",
    "Amount 원본 변수는 제거하시오.  \n",
    "그리고 X, y로 데이터프레임을 분리하시오.\n"
   ]
  },
  {
   "cell_type": "markdown",
   "id": "92d94b24",
   "metadata": {},
   "source": [
    "\n",
    "4. 학습 데이터와 테스트 데이터 분할  \n",
    "train_test_split을 사용해 학습셋:테스트셋 비율을 8:2로 나누고,  \n",
    "stratify=y 옵션으로 클래스 비율 유지,  \n",
    "분할된 데이터의 Class 비율을 출력하시오.  \n",
    "(random_state는 42로 설정)\n"
   ]
  },
  {
   "cell_type": "code",
   "execution_count": 17,
   "id": "152da0e9-4d94-4365-8c23-0051c5912141",
   "metadata": {},
   "outputs": [
    {
     "name": "stdout",
     "output_type": "stream",
     "text": [
      "Train 데이터 클래스 비율:\n",
      "Class\n",
      "0    0.953056\n",
      "1    0.046944\n",
      "Name: proportion, dtype: float64\n",
      "\n",
      "Test 데이터 클래스 비율:\n",
      "Class\n",
      "0    0.953311\n",
      "1    0.046689\n",
      "Name: proportion, dtype: float64\n"
     ]
    }
   ],
   "source": [
    "from sklearn.preprocessing import StandardScaler\n",
    "from sklearn.model_selection import train_test_split\n",
    "\n",
    "df = pd.read_csv('creditcard.csv')\n",
    "\n",
    "fraud = df[df['Class'] == 1]\n",
    "normal = df[df['Class'] == 0].sample(n=10000, random_state=42)\n",
    "df_balanced = pd.concat([fraud, normal])\n",
    "\n",
    "scaler = StandardScaler()\n",
    "df_balanced['Amount_Scaled'] = scaler.fit_transform(df_balanced[['Amount']])\n",
    "df_balanced.drop('Amount', axis=1, inplace=True)\n",
    "\n",
    "X = df_balanced.drop('Class', axis=1)\n",
    "y = df_balanced['Class']\n",
    "\n",
    "X_train, X_test, y_train, y_test = train_test_split(\n",
    "    X, y, test_size=0.2, stratify=y, random_state=42\n",
    ")\n",
    "\n",
    "print(\"Train 데이터 클래스 비율:\")\n",
    "print(y_train.value_counts(normalize=True))\n",
    "\n",
    "print(\"\\nTest 데이터 클래스 비율:\")\n",
    "print(y_test.value_counts(normalize=True))\n"
   ]
  },
  {
   "cell_type": "markdown",
   "id": "55475dd8",
   "metadata": {},
   "source": [
    "\n",
    "5. SMOTE 적용  \n",
    "학습 데이터(X_train)에 SMOTE를 적용하여  \n",
    "소수 클래스(사기 거래)를 오버샘플링하시오.  \n",
    "(왜 SMOTE를 적용해야하는지까지 서술하시오.)  \n",
    "SMOTE 적용 전후의 사기 거래 건수를 출력하시오.\n"
   ]
  },
  {
   "cell_type": "code",
   "execution_count": 18,
   "id": "7f33770e-8d57-4791-a811-59e2e19d6a24",
   "metadata": {},
   "outputs": [
    {
     "name": "stdout",
     "output_type": "stream",
     "text": [
      "Before SMOTE: Class\n",
      "0    7999\n",
      "1     394\n",
      "Name: count, dtype: int64\n",
      "After SMOTE: Class\n",
      "0    7999\n",
      "1    7999\n",
      "Name: count, dtype: int64\n"
     ]
    }
   ],
   "source": [
    "\n",
    "\n",
    "smote = SMOTE(random_state=42)\n",
    "X_train_resampled, y_train_resampled = smote.fit_resample(X_train, y_train)\n",
    "\n",
    "print(\"Before SMOTE:\", y_train.value_counts())\n",
    "print(\"After SMOTE:\", pd.Series(y_train_resampled).value_counts())\n"
   ]
  },
  {
   "cell_type": "markdown",
   "id": "f6e93cc4",
   "metadata": {},
   "source": [
    "\n",
    "6. 모델 학습  \n",
    "적합한 ML 모델을 선정하여 모델을 학습시키고,  \n",
    "테스트셋에서 예측값(predict)과 예측 확률(predict_proba)을 출력하시오.  \n",
    "classification_report로 Precision, Recall, F1-score를 확인하시오.  \n",
    "그리고 average_precision_score로 PR-AUC를 계산하여 출력하시오.\n"
   ]
  },
  {
   "cell_type": "code",
   "execution_count": 19,
   "id": "e95ff204-5378-4a49-958e-396e7bba0922",
   "metadata": {},
   "outputs": [
    {
     "name": "stdout",
     "output_type": "stream",
     "text": [
      "              precision    recall  f1-score   support\n",
      "\n",
      "           0     0.9945    0.9975    0.9960      2001\n",
      "           1     0.9457    0.8878    0.9158        98\n",
      "\n",
      "    accuracy                         0.9924      2099\n",
      "   macro avg     0.9701    0.9426    0.9559      2099\n",
      "weighted avg     0.9922    0.9924    0.9923      2099\n",
      "\n",
      "PR-AUC: 0.9537\n"
     ]
    }
   ],
   "source": [
    "from sklearn.ensemble import RandomForestClassifier\n",
    "from sklearn.metrics import classification_report, average_precision_score\n",
    "\n",
    "# 1. 모델 선정 및 학습\n",
    "model = RandomForestClassifier(random_state=42)\n",
    "model.fit(X_train_resampled, y_train_resampled)\n",
    "\n",
    "y_pred = model.predict(X_test)\n",
    "y_prob = model.predict_proba(X_test)[:, 1]\n",
    "\n",
    "print(classification_report(y_test, y_pred, digits=4))\n",
    "\n",
    "pr_auc = average_precision_score(y_test, y_prob)\n",
    "print(f\"PR-AUC: {pr_auc:.4f}\")"
   ]
  },
  {
   "cell_type": "markdown",
   "id": "f5f21e0b",
   "metadata": {},
   "source": [
    "\n",
    "7. 최종 성능 평가  \n",
    "모델 선정, 하이퍼파라미터 튜닝과 Threshold 조정 등을 통해  \n",
    "최종 모델이 목표 Recall ≥ 0.80, F1 ≥ 0.88, PR-AUC ≥ 0.90 을 달성하였는지 여부를 작성하시오.  \n",
    "(Class 0, 1 둘 다!)  \n",
    "달성하지 못했다면 추가로 어떤 방법을 시도할지 간략히 제안하시오.\n"
   ]
  },
  {
   "cell_type": "code",
   "execution_count": 20,
   "id": "99b9ba90-600b-42f3-91f2-58151ffae183",
   "metadata": {},
   "outputs": [],
   "source": [
    "# PR-AUC 0.9537, 이외 recall ≥ 0.80, F1 ≥ 0.88\n",
    "# 기준을 만족하여 목표로 제시된 성능 조건을 충족함."
   ]
  }
 ],
 "metadata": {
  "kernelspec": {
   "display_name": "Python 3 (ipykernel)",
   "language": "python",
   "name": "python3"
  },
  "language_info": {
   "codemirror_mode": {
    "name": "ipython",
    "version": 3
   },
   "file_extension": ".py",
   "mimetype": "text/x-python",
   "name": "python",
   "nbconvert_exporter": "python",
   "pygments_lexer": "ipython3",
   "version": "3.13.5"
  }
 },
 "nbformat": 4,
 "nbformat_minor": 5
}
